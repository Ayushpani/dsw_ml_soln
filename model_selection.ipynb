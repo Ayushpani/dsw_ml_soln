{
 "cells": [
  {
   "cell_type": "markdown",
   "metadata": {},
   "source": [
    "## Actually I had to use Gradient boosting and Xgboost too, which for sure would have given better output, but due to some scikit learn version issue the pickle file of gradient boosting is not being imported here, and due to some versioon issue, the cgboossst is not being recognized by my system."
   ]
  },
  {
   "cell_type": "code",
   "execution_count": null,
   "metadata": {},
   "outputs": [
    {
     "name": "stderr",
     "output_type": "stream",
     "text": [
      "c:\\Users\\Ayush Panigrahi\\Desktop\\dsw_solution_AyushPani\\venv\\Lib\\site-packages\\sklearn\\base.py:380: InconsistentVersionWarning: Trying to unpickle estimator StandardScaler from version 1.4.1.post1 when using version 1.6.0. This might lead to breaking code or invalid results. Use at your own risk. For more info please refer to:\n",
      "https://scikit-learn.org/stable/model_persistence.html#security-maintainability-limitations\n",
      "  warnings.warn(\n",
      "c:\\Users\\Ayush Panigrahi\\Desktop\\dsw_solution_AyushPani\\venv\\Lib\\site-packages\\sklearn\\base.py:380: InconsistentVersionWarning: Trying to unpickle estimator LogisticRegression from version 1.4.1.post1 when using version 1.6.0. This might lead to breaking code or invalid results. Use at your own risk. For more info please refer to:\n",
      "https://scikit-learn.org/stable/model_persistence.html#security-maintainability-limitations\n",
      "  warnings.warn(\n",
      "c:\\Users\\Ayush Panigrahi\\Desktop\\dsw_solution_AyushPani\\venv\\Lib\\site-packages\\sklearn\\base.py:380: InconsistentVersionWarning: Trying to unpickle estimator DecisionTreeClassifier from version 1.4.1.post1 when using version 1.6.0. This might lead to breaking code or invalid results. Use at your own risk. For more info please refer to:\n",
      "https://scikit-learn.org/stable/model_persistence.html#security-maintainability-limitations\n",
      "  warnings.warn(\n",
      "c:\\Users\\Ayush Panigrahi\\Desktop\\dsw_solution_AyushPani\\venv\\Lib\\site-packages\\sklearn\\base.py:380: InconsistentVersionWarning: Trying to unpickle estimator RandomForestClassifier from version 1.4.1.post1 when using version 1.6.0. This might lead to breaking code or invalid results. Use at your own risk. For more info please refer to:\n",
      "https://scikit-learn.org/stable/model_persistence.html#security-maintainability-limitations\n",
      "  warnings.warn(\n",
      "c:\\Users\\Ayush Panigrahi\\Desktop\\dsw_solution_AyushPani\\venv\\Lib\\site-packages\\sklearn\\utils\\validation.py:2739: UserWarning: X does not have valid feature names, but LogisticRegression was fitted with feature names\n",
      "  warnings.warn(\n"
     ]
    },
    {
     "name": "stdout",
     "output_type": "stream",
     "text": [
      "Logistic Regression Test AUC: 0.5870\n",
      "              precision    recall  f1-score   support\n",
      "\n",
      "           0       0.45      0.56      0.50      3055\n",
      "           1       0.71      0.61      0.66      5400\n",
      "\n",
      "    accuracy                           0.59      8455\n",
      "   macro avg       0.58      0.59      0.58      8455\n",
      "weighted avg       0.62      0.59      0.60      8455\n",
      "\n",
      "Random Forest Test AUC: 0.5230\n"
     ]
    },
    {
     "name": "stderr",
     "output_type": "stream",
     "text": [
      "c:\\Users\\Ayush Panigrahi\\Desktop\\dsw_solution_AyushPani\\venv\\Lib\\site-packages\\sklearn\\utils\\validation.py:2739: UserWarning: X does not have valid feature names, but LogisticRegression was fitted with feature names\n",
      "  warnings.warn(\n",
      "c:\\Users\\Ayush Panigrahi\\Desktop\\dsw_solution_AyushPani\\venv\\Lib\\site-packages\\sklearn\\utils\\validation.py:2739: UserWarning: X does not have valid feature names, but RandomForestClassifier was fitted with feature names\n",
      "  warnings.warn(\n",
      "c:\\Users\\Ayush Panigrahi\\Desktop\\dsw_solution_AyushPani\\venv\\Lib\\site-packages\\sklearn\\utils\\validation.py:2739: UserWarning: X does not have valid feature names, but RandomForestClassifier was fitted with feature names\n",
      "  warnings.warn(\n"
     ]
    },
    {
     "name": "stdout",
     "output_type": "stream",
     "text": [
      "              precision    recall  f1-score   support\n",
      "\n",
      "           0       0.00      0.00      0.00      3055\n",
      "           1       0.64      1.00      0.78      5400\n",
      "\n",
      "    accuracy                           0.64      8455\n",
      "   macro avg       0.32      0.50      0.39      8455\n",
      "weighted avg       0.41      0.64      0.50      8455\n",
      "\n"
     ]
    },
    {
     "name": "stderr",
     "output_type": "stream",
     "text": [
      "c:\\Users\\Ayush Panigrahi\\Desktop\\dsw_solution_AyushPani\\venv\\Lib\\site-packages\\sklearn\\metrics\\_classification.py:1565: UndefinedMetricWarning: Precision is ill-defined and being set to 0.0 in labels with no predicted samples. Use `zero_division` parameter to control this behavior.\n",
      "  _warn_prf(average, modifier, f\"{metric.capitalize()} is\", len(result))\n",
      "c:\\Users\\Ayush Panigrahi\\Desktop\\dsw_solution_AyushPani\\venv\\Lib\\site-packages\\sklearn\\metrics\\_classification.py:1565: UndefinedMetricWarning: Precision is ill-defined and being set to 0.0 in labels with no predicted samples. Use `zero_division` parameter to control this behavior.\n",
      "  _warn_prf(average, modifier, f\"{metric.capitalize()} is\", len(result))\n",
      "c:\\Users\\Ayush Panigrahi\\Desktop\\dsw_solution_AyushPani\\venv\\Lib\\site-packages\\sklearn\\metrics\\_classification.py:1565: UndefinedMetricWarning: Precision is ill-defined and being set to 0.0 in labels with no predicted samples. Use `zero_division` parameter to control this behavior.\n",
      "  _warn_prf(average, modifier, f\"{metric.capitalize()} is\", len(result))\n"
     ]
    }
   ],
   "source": [
    "import pandas as pd\n",
    "import pickle\n",
    "from sklearn.metrics import roc_auc_score, classification_report\n",
    "import xgboost \n",
    "\n",
    "test_data = pd.read_csv(\"test_data.csv\") \n",
    "\n",
    "features_to_drop = ['customer_id', 'loan_status', 'C5'] \n",
    "X_test_cleaned = test_data.drop(columns=features_to_drop, errors='ignore')\n",
    "\n",
    "training_features = pd.read_csv(\"X_features.csv\").columns\n",
    "\n",
    "X_test_aligned = X_test_cleaned.reindex(columns=training_features, fill_value=0)\n",
    "\n",
    "with open(\"scaler.pkl\", \"rb\") as f:\n",
    "    scaler = pickle.load(f)\n",
    "X_test_scaled = scaler.transform(X_test_aligned)\n",
    "\n",
    "y_test = test_data['loan_status']\n",
    "\n",
    "with open(\"logistic_regression_model.pkl\", \"rb\") as f:\n",
    "    logistic_model = pickle.load(f)\n",
    "\n",
    "with open(\"random_forest_model.pkl\", \"rb\") as f:\n",
    "    random_forest_model = pickle.load(f)\n",
    "\n",
    "\n",
    "\n",
    "models = {\n",
    "    \"Logistic Regression\": logistic_model,\n",
    "    \"Random Forest\": random_forest_model,\n",
    "\n",
    "}\n",
    "\n",
    "for name, model in models.items():\n",
    "    y_pred_proba = model.predict_proba(X_test_scaled)[:, 1]\n",
    "    auc_score = roc_auc_score(y_test, y_pred_proba)\n",
    "    print(f\"{name} Test AUC: {auc_score:.4f}\")\n",
    "    print(classification_report(y_test, model.predict(X_test_scaled)))\n"
   ]
  }
 ],
 "metadata": {
  "kernelspec": {
   "display_name": "venv",
   "language": "python",
   "name": "python3"
  },
  "language_info": {
   "codemirror_mode": {
    "name": "ipython",
    "version": 3
   },
   "file_extension": ".py",
   "mimetype": "text/x-python",
   "name": "python",
   "nbconvert_exporter": "python",
   "pygments_lexer": "ipython3",
   "version": "3.12.1"
  }
 },
 "nbformat": 4,
 "nbformat_minor": 2
}
